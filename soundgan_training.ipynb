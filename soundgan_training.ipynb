{
 "cells": [
  {
   "cell_type": "markdown",
   "metadata": {
    "id": "UXJ9OE8qUs-s"
   },
   "source": [
    "# SoundGAN - Generating Audio with a DCGAN with dilated convolutions "
   ]
  },
  {
   "cell_type": "markdown",
   "metadata": {
    "id": "hbbUFB-DU9nB"
   },
   "source": [
    "## **Importing modules**"
   ]
  },
  {
   "cell_type": "code",
   "execution_count": 1,
   "metadata": {
    "colab": {
     "base_uri": "https://localhost:8080/",
     "height": 35
    },
    "id": "qo2Pz0UrUUCv",
    "outputId": "293df3a5-7cb3-4832-8a09-34e2501aaacd"
   },
   "outputs": [
    {
     "data": {
      "text/plain": [
       "'2.3.0'"
      ]
     },
     "execution_count": 1,
     "metadata": {},
     "output_type": "execute_result"
    }
   ],
   "source": [
    "#import all necessary libraries\n",
    "\n",
    "import tensorflow as tf\n",
    "import glob\n",
    "import matplotlib.pyplot as plt\n",
    "import numpy as np\n",
    "import os\n",
    "import PIL\n",
    "from tensorflow.keras import layers\n",
    "import time\n",
    "import keras\n",
    "import scipy\n",
    "from scipy.io import wavfile\n",
    "import sklearn\n",
    "from sklearn.metrics import mean_squared_error\n",
    "import matplotlib\n",
    "import random\n",
    "import sys\n",
    "\n",
    "tf.__version__"
   ]
  },
  {
   "cell_type": "code",
   "execution_count": 2,
   "metadata": {
    "colab": {
     "base_uri": "https://localhost:8080/"
    },
    "id": "Ik1Ce9bCUmRu",
    "outputId": "c45294f8-23b7-491b-b990-3cec4b2fc192"
   },
   "outputs": [],
   "source": [
    "## mount drive / this is to save results and to load data if using google colab\n",
    "#drive.mount(\"/content/gdrive\",force_remount=True)"
   ]
  },
  {
   "cell_type": "markdown",
   "metadata": {},
   "source": [
    "## **Importing modules for processing of data**"
   ]
  },
  {
   "cell_type": "code",
   "execution_count": 3,
   "metadata": {
    "id": "enIW_8SAwkwd"
   },
   "outputs": [],
   "source": [
    "#import my functions for importing/processing/plotting data\n",
    "\n",
    "import data_import_process\n",
    "from data_import_process import *"
   ]
  },
  {
   "cell_type": "markdown",
   "metadata": {},
   "source": [
    "## **Define data source and import/process data**"
   ]
  },
  {
   "cell_type": "code",
   "execution_count": 4,
   "metadata": {},
   "outputs": [],
   "source": [
    "#define source of data\n",
    "DATADIR= 'G:/Music/Drumkits/Hats and Rides/'"
   ]
  },
  {
   "cell_type": "code",
   "execution_count": 5,
   "metadata": {
    "colab": {
     "base_uri": "https://localhost:8080/"
    },
    "id": "7XHJ2pNMVqwx",
    "outputId": "37ddcab9-d61c-4b57-8055-4ca742a72a48"
   },
   "outputs": [
    {
     "name": "stdout",
     "output_type": "stream",
     "text": [
      "Kept files with 44100 and deleted 0 files with different sample rate\n"
     ]
    },
    {
     "name": "stderr",
     "output_type": "stream",
     "text": [
      "C:\\Users\\pasch\\Downloads\\SoundGAN\\data_import_process.py:32: WavFileWarning: Chunk (non-data) not understood, skipping it.\n",
      "  samplerate, data = wavfile.read(path)\n"
     ]
    }
   ],
   "source": [
    "training_data= import_data(DATADIR,44100)"
   ]
  },
  {
   "cell_type": "code",
   "execution_count": 6,
   "metadata": {
    "colab": {
     "base_uri": "https://localhost:8080/",
     "height": 299
    },
    "id": "kQLQ8SrYWMh4",
    "outputId": "990d69d3-80a2-4226-b258-53252df8f795",
    "scrolled": true
   },
   "outputs": [
    {
     "data": {
      "image/png": "[encoded data removed]",
      "text/plain": [
       "<Figure size 432x288 with 1 Axes>"
      ]
     },
     "metadata": {
      "needs_background": "light"
     },
     "output_type": "display_data"
    },
    {
     "name": "stdout",
     "output_type": "stream",
     "text": [
      "The maximum length of samples for this dataset is 452662 and the average samples per wav file is 52949.45\n"
     ]
    },
    {
     "data": {
      "text/plain": [
       "40"
      ]
     },
     "execution_count": 6,
     "metadata": {},
     "output_type": "execute_result"
    }
   ],
   "source": [
    "#make histogram of data length before processing\n",
    "plot_lengths(training_data)\n",
    "len(training_data)"
   ]
  },
  {
   "cell_type": "code",
   "execution_count": 7,
   "metadata": {
    "colab": {
     "base_uri": "https://localhost:8080/"
    },
    "id": "0a6brjupWTDN",
    "outputId": "d5c828d8-0480-4c48-b10e-b4298d07e6d0",
    "scrolled": true
   },
   "outputs": [
    {
     "name": "stdout",
     "output_type": "stream",
     "text": [
      "Normalization to values between -1 and +1 completed successfully \n",
      "\n",
      "Successfully stripped all beginning and end silences effectively reducing the average samples of the dataset from 52949.45 to 30575.35\n",
      "\n",
      "Files with length of over 7500 have been successfully removed \n",
      "\n",
      "Padding to achieve desired length \n",
      "\n"
     ]
    }
   ],
   "source": [
    "training_data= preprocess_data(training_data, 7500)"
   ]
  },
  {
   "cell_type": "code",
   "execution_count": 8,
   "metadata": {
    "colab": {
     "base_uri": "https://localhost:8080/",
     "height": 295
    },
    "id": "8nYQvaya7bbw",
    "outputId": "c3316758-f06c-42e6-f94a-c81a429b03d4"
   },
   "outputs": [
    {
     "data": {
      "image/png": "[encoded data removed]",
      "text/plain": [
       "<Figure size 432x288 with 1 Axes>"
      ]
     },
     "metadata": {
      "needs_background": "light"
     },
     "output_type": "display_data"
    },
    {
     "name": "stdout",
     "output_type": "stream",
     "text": [
      "The maximum length of samples for this dataset is 7500 and the average samples per wav file is 7500.0\n"
     ]
    },
    {
     "data": {
      "text/plain": [
       "6"
      ]
     },
     "execution_count": 8,
     "metadata": {},
     "output_type": "execute_result"
    }
   ],
   "source": [
    "#make histogram of data after processing\n",
    "plot_lengths(training_data)\n",
    "len(training_data)"
   ]
  },
  {
   "cell_type": "code",
   "execution_count": 9,
   "metadata": {
    "colab": {
     "base_uri": "https://localhost:8080/"
    },
    "id": "zIH7p6RMq17J",
    "outputId": "a8fde9a5-7994-4d78-9e35-ed4ad69f2dc7"
   },
   "outputs": [
    {
     "data": {
      "text/plain": [
       "(6, 7500, 1)"
      ]
     },
     "execution_count": 9,
     "metadata": {},
     "output_type": "execute_result"
    }
   ],
   "source": [
    "training_data.shape"
   ]
  },
  {
   "cell_type": "code",
   "execution_count": 10,
   "metadata": {
    "id": "L7uLYQ4CWb3v"
   },
   "outputs": [],
   "source": [
    "### write back into wav file to see if i made mistakes in processing\n",
    "\n",
    "scipy.io.wavfile.write(\"processed_data_sample.wav\", 44100, training_data[0])\n",
    "\n",
    "##WORKS"
   ]
  },
  {
   "cell_type": "markdown",
   "metadata": {
    "id": "LD3BIhT5weeR"
   },
   "source": [
    "## **Define Neural Network Model**"
   ]
  },
  {
   "cell_type": "code",
   "execution_count": 11,
   "metadata": {
    "id": "1tp8eqJ9iTf3"
   },
   "outputs": [],
   "source": [
    "#generator model\n",
    "\n",
    "generator_model= keras.Sequential([\n",
    "keras.layers.Dense(120*256, input_shape=(120,)),\n",
    "\n",
    "keras.layers.Reshape((120, 256)),\n",
    "keras.layers.BatchNormalization(),\n",
    "keras.layers.ReLU(),\n",
    "\n",
    "keras.layers.UpSampling1D(size=16),\n",
    "keras.layers.Conv1D(128, 25, strides=4),\n",
    "keras.layers.BatchNormalization(),\n",
    "keras.layers.ReLU(),\n",
    "\n",
    "keras.layers.UpSampling1D(size=8),\n",
    "keras.layers.Conv1D(64, 25, strides=4),\n",
    "keras.layers.BatchNormalization(),\n",
    "keras.layers.ReLU(),\n",
    "\n",
    "keras.layers.UpSampling1D(size=8),\n",
    "keras.layers.Conv1D(32, 25, strides=4),\n",
    "keras.layers.BatchNormalization(),\n",
    "keras.layers.ReLU(),\n",
    "\n",
    "keras.layers.UpSampling1D(size=8),\n",
    "keras.layers.Conv1D(16, 25, strides=4),\n",
    "keras.layers.BatchNormalization(),\n",
    "keras.layers.ReLU(),\n",
    "\n",
    "keras.layers.UpSampling1D(size=8),\n",
    "keras.layers.Conv1D(1, 25, strides=4, activation='tanh',padding=\"same\")\n",
    "])"
   ]
  },
  {
   "cell_type": "code",
   "execution_count": 12,
   "metadata": {
    "id": "RzWhCeNuUeL5"
   },
   "outputs": [],
   "source": [
    "#discriminator model\n",
    "\n",
    "discriminator_model= keras.Sequential([\n",
    "keras.layers.Conv1D(128, 25, strides=4, input_shape=[7500,1]),\n",
    "keras.layers.LeakyReLU(),\n",
    "keras.layers.Dropout(0.3),\n",
    "keras.layers.Conv1D(64, 25, strides=1,dilation_rate=2),\n",
    "keras.layers.LeakyReLU(),\n",
    "keras.layers.Dropout(0.3),\n",
    "keras.layers.Conv1D(64, 25, strides=1,dilation_rate=4),\n",
    "keras.layers.LeakyReLU(),\n",
    "keras.layers.Dropout(0.3),\n",
    "keras.layers.Conv1D(64, 25, strides=1,dilation_rate=8),\n",
    "keras.layers.LeakyReLU(),\n",
    "keras.layers.Dropout(0.3),\n",
    "keras.layers.Flatten(),\n",
    "keras.layers.Dense(1)\n",
    "])"
   ]
  },
  {
   "cell_type": "code",
   "execution_count": 13,
   "metadata": {},
   "outputs": [],
   "source": [
    "## DON'T COMPILE SINCE WE ARE USING A CUSTOM LOSS/OPTIMIZER/TRAINING LOOP"
   ]
  },
  {
   "cell_type": "code",
   "execution_count": 14,
   "metadata": {
    "id": "S1XZ_m5cyeP7"
   },
   "outputs": [],
   "source": [
    "#RESHAPE DATA IN RIGHT SHAPE FOR INPUT INTO MODEL\n",
    "\n",
    "BATCH_SIZE=2\n",
    "train_dataset=reshape_data(training_data,7500,BATCH_SIZE,BUFFER_SIZE=training_data.shape[0])"
   ]
  },
  {
   "cell_type": "code",
   "execution_count": 15,
   "metadata": {
    "id": "eY6aQnXpUgWA"
   },
   "outputs": [],
   "source": [
    "#DEFINE BINARY CROSS-ENTROPY LOSS FOR DISCRIMINATOR AND GENERATOR\n",
    "\n",
    "cross_entropy = tf.keras.losses.BinaryCrossentropy(from_logits=True)\n",
    "\n",
    "def discriminator_loss(real_output, fake_output):\n",
    "    real_loss = cross_entropy(tf.ones_like(real_output), real_output)\n",
    "    fake_loss = cross_entropy(tf.zeros_like(fake_output), fake_output)\n",
    "    total_loss = real_loss + fake_loss\n",
    "    return total_loss\n",
    "\n",
    "def generator_loss(fake_output):\n",
    "    return cross_entropy(tf.ones_like(fake_output), fake_output)\n",
    "\n",
    "#DEFINE OPTIMIZER AND SET LEARNING RATE\n",
    "\n",
    "generator_optimizer = tf.keras.optimizers.Adam(1e-4)\n",
    "discriminator_optimizer = tf.keras.optimizers.Adam(1e-4)"
   ]
  },
  {
   "cell_type": "code",
   "execution_count": 16,
   "metadata": {
    "id": "1YfmanmUUoZC"
   },
   "outputs": [],
   "source": [
    "noise_dim=120\n",
    "\n",
    "@tf.function\n",
    "def train_step(sounds):\n",
    "    noise = tf.random.normal([BATCH_SIZE, noise_dim])\n",
    "\n",
    "    with tf.GradientTape() as gen_tape, tf.GradientTape() as disc_tape:\n",
    "      generated_sounds = generator_model(noise, training=True)\n",
    "\n",
    "      real_output = discriminator_model(sounds, training=True)\n",
    "      fake_output = discriminator_model(generated_sounds, training=True)\n",
    "\n",
    "      gen_loss = generator_loss(fake_output)\n",
    "      disc_loss = discriminator_loss(real_output, fake_output)\n",
    "\n",
    "    gradients_of_generator = gen_tape.gradient(gen_loss, generator_model.trainable_variables)\n",
    "    gradients_of_discriminator = disc_tape.gradient(disc_loss, discriminator_model.trainable_variables)\n",
    "\n",
    "    generator_optimizer.apply_gradients(zip(gradients_of_generator, generator_model.trainable_variables))\n",
    "    discriminator_optimizer.apply_gradients(zip(gradients_of_discriminator, discriminator_model.trainable_variables))"
   ]
  },
  {
   "cell_type": "code",
   "execution_count": 17,
   "metadata": {},
   "outputs": [],
   "source": [
    "#define function to generate audio from generator model\n",
    "\n",
    "def generate_audio(amount,destination,noise_dim,sample_rate):\n",
    "  #check if destination folder exists, otherwise create\n",
    "  newpath = destination\n",
    "  if not os.path.exists(newpath):\n",
    "    os.makedirs(newpath)\n",
    "\n",
    "  for i in range(amount):\n",
    "    #sample and generate sound from latent space\n",
    "    noise = tf.random.normal([1, noise_dim])\n",
    "    generated_sound1 = generator_model(noise)\n",
    "    generated_sound1= generated_sound1[0][:]\n",
    "    generated_sound1_1 = np.asarray(generated_sound1, np.float32)\n",
    "    ### write back into wav file to see results\n",
    "    scipy.io.wavfile.write(str(destination)+str(i)+\".wav\", sample_rate, generated_sound1_1)"
   ]
  },
  {
   "cell_type": "code",
   "execution_count": 18,
   "metadata": {
    "id": "wrcD9J9zUubt"
   },
   "outputs": [],
   "source": [
    "#DEFINE TRAINING LOOP \n",
    "\n",
    "def train(dataset, epochs):\n",
    "  for epoch in range(epochs):\n",
    "    start = time.time()\n",
    "\n",
    "    for sound_batch in dataset:\n",
    "      train_step(sound_batch)\n",
    "\n",
    "    # generate and save 10 audio clips every 50 epochs\n",
    "    if (epoch + 1) % 50 == 0:\n",
    "      generate_audio(10,\"generated/epoch{}/\".format(epoch + 1),120,44100)\n",
    "\n",
    "    print (\"\\r\",'Time for epoch {} is {} sec'.format(epoch + 1, time.time()-start), end=\"         \")"
   ]
  },
  {
   "cell_type": "code",
   "execution_count": 19,
   "metadata": {
    "colab": {
     "background_save": true,
     "base_uri": "https://localhost:8080/"
    },
    "id": "0RpzxeFDEMcn",
    "outputId": "f94458f5-9fa8-4377-fd69-f7866109ac53"
   },
   "outputs": [
    {
     "name": "stdout",
     "output_type": "stream",
     "text": [
      " Time for epoch 50 is 2.9516680240631104 sec         "
     ]
    }
   ],
   "source": [
    "train(train_dataset, 50)"
   ]
  },
  {
   "cell_type": "markdown",
   "metadata": {},
   "source": [
    "### Generate Audio"
   ]
  },
  {
   "cell_type": "code",
   "execution_count": 20,
   "metadata": {},
   "outputs": [],
   "source": [
    "#GENERATE EXAMPLES WHEN DONE WITH MODEL\n",
    "\n",
    "generate_audio(100,\"generated/epoch{}/\".format(50),120,44100)"
   ]
  },
  {
   "cell_type": "markdown",
   "metadata": {},
   "source": [
    "## Check if Network is simply memorizing the training data"
   ]
  },
  {
   "cell_type": "code",
   "execution_count": 21,
   "metadata": {},
   "outputs": [],
   "source": [
    "## DECLARE PATH TO GENERATED DATA THAT YOU WISH TO COMPARE\n",
    "DATADIR=\"generated/epoch50/\""
   ]
  },
  {
   "cell_type": "code",
   "execution_count": 22,
   "metadata": {
    "colab": {
     "base_uri": "https://localhost:8080/"
    },
    "id": "tPJFMqgM9Ddl",
    "outputId": "c45781da-6d55-4fb5-e765-2f57e6492e23"
   },
   "outputs": [
    {
     "name": "stdout",
     "output_type": "stream",
     "text": [
      "Kept files with 44100 and deleted 0 files with different sample rate\n"
     ]
    }
   ],
   "source": [
    "generated_data=import_data(DATADIR,44100)"
   ]
  },
  {
   "cell_type": "code",
   "execution_count": 23,
   "metadata": {
    "colab": {
     "base_uri": "https://localhost:8080/"
    },
    "id": "9e37WY2uhFOJ",
    "outputId": "742cf31b-9f5d-4cbe-b870-81e2f8bbc1be"
   },
   "outputs": [],
   "source": [
    "#select audio file to compare\n",
    "file_to_compare= generated_data[0]"
   ]
  },
  {
   "cell_type": "code",
   "execution_count": 27,
   "metadata": {
    "id": "s9NbgUIHifU0"
   },
   "outputs": [],
   "source": [
    "## THIS SAVES THE GENERATED DATA AND THE MOST SIMILAR TRAINING DATA. \n",
    "## THIS NEEDS TO BE COMPARED MANUALLY TO VERIFY IF MODEL IS MEMORIZING\n",
    "\n",
    "def export_similar(generated_file,training_data):\n",
    "    x=[]\n",
    "    x.append(generated_file)\n",
    "    x.append(training_data[find_most_similar_audio(generated_file,training_data)])\n",
    "    write_wav_data(x,'/similaraudio/')"
   ]
  },
  {
   "cell_type": "code",
   "execution_count": 28,
   "metadata": {},
   "outputs": [
    {
     "name": "stdout",
     "output_type": "stream",
     "text": [
      "The most similar audio in the dataset is number 2 (index nr. 1) and has an mse of 0.012512419\n"
     ]
    }
   ],
   "source": [
    "export_similar(file_to_compare,training_data)"
   ]
  }
 ],
 "metadata": {
  "accelerator": "GPU",
  "colab": {
   "collapsed_sections": [],
   "machine_shape": "hm",
   "name": "DILATED DCGAN FINAL THESIS",
   "provenance": [],
   "toc_visible": true
  },
  "kernelspec": {
   "display_name": "Python 3",
   "language": "python",
   "name": "python3"
  },
  "language_info": {
   "codemirror_mode": {
    "name": "ipython",
    "version": 3
   },
   "file_extension": ".py",
   "mimetype": "text/x-python",
   "name": "python",
   "nbconvert_exporter": "python",
   "pygments_lexer": "ipython3",
   "version": "3.8.10"
  }
 },
 "nbformat": 4,
 "nbformat_minor": 1
}
